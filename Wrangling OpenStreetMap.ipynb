{
 "cells": [
  {
   "cell_type": "markdown",
   "metadata": {},
   "source": [
    "## Data Wrangling  - OpenStreetMap Project with SQL"
   ]
  },
  {
   "cell_type": "markdown",
   "metadata": {},
   "source": [
    "Wrangling Toronto, Canada OpenStreetMap Data\n",
    "\n",
    "This project involved applying data munging (or wrangling/cleaning) techniques on OpenStreetMap data for an area of our choice. These techniques included assessing the quality of the data for validity, accuracy, completeness, consistency and uniformity, and then correcting the issues identified in the data.\n",
    "\n",
    "1. MAP AREA: Toronto - Canada\n",
    "\n",
    "http://www.openstreetmap.org/export#map=11/43.7188/-79.3762\n",
    "\n",
    "https://www.openstreetmap.org/relation/324211\n",
    "\n",
    "I lived in Toronto, CANADA. I am intrested in find more about the places and streets. I would like to analyse and check its need any corrections or improvements."
   ]
  },
  {
   "cell_type": "markdown",
   "metadata": {},
   "source": [
    "2. I have encountered following problems in the Map Dataset.\n",
    "1. When I audit the data for the Street and found that some of the street name abbreviation are not what we expected. I able to improve or   update the Stree name abbreviation to the expected name.\n",
    "\n",
    "    * 'Rd.' -> Road\n",
    "    * 'st' -> Street\n",
    "    * 'Ter' -> Terrace\n",
    " \n",
    "2. When I audit the Postal Code, The right format is :'L1W 3R2'.\n",
    "\n",
    "   * Some of them are missing a space inbetween first 3 digits and last 3 digits as follows 'L1W3R2'.\n",
    "\n",
    "   * Some of the postal code are missing last 3 digits.\n",
    " \n",
    "   * Couple of them with no postal code\n",
    "\n",
    "3. When I audit the Phone numbers. some of them are notin the right format. I able to corrected to the right format as follows.\n",
    "\n",
    "   * '+1 905 990 9220' -> '+1-905-990-9220'\n",
    "\n",
    "  Also I noticed abnormal format as follows,\n",
    "\n",
    "   * 'unknown''(416) 536-SODA', '+1 905 -90-4110', '1 905 891 326', '439-0000'"
   ]
  },
  {
   "cell_type": "markdown",
   "metadata": {},
   "source": [
    "### 1. Using Sqlite DB and Connect to the database named \"jsrosmp3.db\""
   ]
  },
  {
   "cell_type": "code",
   "execution_count": 1,
   "metadata": {},
   "outputs": [
    {
     "data": {
      "text/plain": [
       "'3.8.11'"
      ]
     },
     "execution_count": 1,
     "metadata": {},
     "output_type": "execute_result"
    }
   ],
   "source": [
    "# 1. Import the modules that I will need:\n",
    "import sqlite3\n",
    "import csv\n",
    "from pprint import pprint\n",
    "\n",
    "sqlite3.sqlite_version"
   ]
  },
  {
   "cell_type": "code",
   "execution_count": 2,
   "metadata": {
    "collapsed": true
   },
   "outputs": [],
   "source": [
    "# 2. Create a new sqlite database named \"Jsrosmp3\" \n",
    "\n",
    "sqlite_db = 'C:\\\\Users\\\\Skanda\\\\Jsrosmp3.db'\n",
    "\n",
    "# Connect to the database\n",
    "conn = sqlite3.connect(sqlite_db)\n"
   ]
  },
  {
   "cell_type": "markdown",
   "metadata": {},
   "source": [
    "### 2. Create Tables and Insert Data from CSV files"
   ]
  },
  {
   "cell_type": "code",
   "execution_count": 3,
   "metadata": {},
   "outputs": [],
   "source": [
    "#Create a cursor object\n",
    "cur = conn.cursor()\n",
    "\n",
    "\n",
    "# 1. Create the nodes table. Drop drop the table if it already exists\n",
    "cur.execute('''DROP TABLE IF EXISTS nodes''')\n",
    "conn.commit()\n",
    "\n",
    "query = '''CREATE TABLE nodes\n",
    "(\n",
    "    id INTEGER PRIMARY KEY NOT NULL,\n",
    "    lat REAL,\n",
    "    lon REAL,\n",
    "    user TEXT,\n",
    "    uid INTEGER,\n",
    "    version INTEGER,\n",
    "    changeset INTEGER,\n",
    "    timestamp TEXT\n",
    ");'''\n",
    "\n",
    "cur.execute(query)\n",
    "\n",
    "# commit the changes\n",
    "conn.commit()\n"
   ]
  },
  {
   "cell_type": "code",
   "execution_count": 5,
   "metadata": {},
   "outputs": [
    {
     "data": {
      "text/plain": [
       "'\\nwith open(\\'nodes.csv\\',\\'rb\\') as fin:\\n    dr = csv.DictReader(fin)\\n    to_db = [(i[\\'id\\'].decode(\"utf-8\"), i[\\'lat\\'].decode(\"utf-8\"), i[\\'lon\\'].decode(\"utf-8\"), i[\\'user\\'].decode(\"utf-8\"), i[\\'uid\\'].decode(\"utf-8\"), i[\\'version\\'].decode(\"utf-8\"), i[\\'changeset\\'].decode(\"utf-8\"), i[\\'timestamp\\'].decode(\"utf-8\")) for i in dr]\\n\\n# Insert the formatted data\\ncur.executemany(\"INSERT INTO nodes(id, lat, lon, user, uid, version, changeset, timestamp) VALUES (?, ?, ?, ?, ?, ?, ?, ?);\", to_db)\\n\\n# Commit \\nconn.commit()\\n'"
      ]
     },
     "execution_count": 5,
     "metadata": {},
     "output_type": "execute_result"
    }
   ],
   "source": [
    "# Read in the data:\n",
    "# Read in the csv file as a dictionary, format the data as a list of tuples:\n",
    "\n",
    "with open('nodes.csv','rb') as fin:\n",
    "    dr = csv.DictReader(fin)\n",
    "    to_db = [(i['id'].decode(\"utf-8\"), i['lat'].decode(\"utf-8\"), i['lon'].decode(\"utf-8\"), i['user'].decode(\"utf-8\"), i['uid'].decode(\"utf-8\"), i['version'].decode(\"utf-8\"), i['changeset'].decode(\"utf-8\"), i['timestamp'].decode(\"utf-8\")) for i in dr]\n",
    "\n",
    "# Insert the formatted data\n",
    "cur.executemany(\"INSERT INTO nodes(id, lat, lon, user, uid, version, changeset, timestamp) VALUES (?, ?, ?, ?, ?, ?, ?, ?);\", to_db)\n",
    "\n",
    "# Commit \n",
    "conn.commit()\n"
   ]
  },
  {
   "cell_type": "code",
   "execution_count": null,
   "metadata": {},
   "outputs": [],
   "source": [
    "# Validate and query the data\n",
    "cur = conn.cursor()\n",
    "query = \"SELECT * FROM nodes LIMIT 5;\"\n",
    "cur.execute(query)\n",
    "rows = cur.fetchall()\n",
    "\n",
    "#Check that the data imported correctly\n",
    "print \"Results:\"\n",
    "pprint(rows)"
   ]
  },
  {
   "cell_type": "code",
   "execution_count": 11,
   "metadata": {
    "collapsed": true
   },
   "outputs": [],
   "source": [
    "# 2. Create the nodes_tags table and insert the data.\n",
    "#    Drop drop the table if it already exists\n",
    "\n",
    "cur.execute('''DROP TABLE IF EXISTS nodes_tags''')\n",
    "conn.commit()\n",
    "\n",
    "query = '''CREATE TABLE nodes_tags (\n",
    "    id INTEGER,\n",
    "    key TEXT,\n",
    "    value TEXT,\n",
    "    type TEXT,\n",
    "    FOREIGN KEY (id) REFERENCES nodes(id)\n",
    ");'''\n",
    "\n",
    "cur.execute(query)\n",
    "conn.commit()\n",
    "\n",
    "with open('nodes_tags.csv','rb') as fin:\n",
    "    dr = csv.DictReader(fin)\n",
    "    to_db = [(i['id'].decode(\"utf-8\"), i['key'],i['value'].decode(\"utf-8\"),i['type']) for i in dr]\n",
    "\n",
    "cur.executemany(\"INSERT INTO nodes_tags(id, key, value,type) VALUES (?, ?, ?, ?);\", to_db)\n",
    "conn.commit()\n"
   ]
  },
  {
   "cell_type": "code",
   "execution_count": 11,
   "metadata": {},
   "outputs": [
    {
     "name": "stdout",
     "output_type": "stream",
     "text": [
      "Results:\n",
      "[(1497802, u'created_by', u'JOSM', u'regular'),\n",
      " (1497880, u'ref', u'11', u'regular'),\n",
      " (1497880, u'name', u'Wynford Drive', u'regular'),\n",
      " (1497880, u'highway', u'motorway_junction', u'regular'),\n",
      " (1498004, u'created_by', u'JOSM', u'regular'),\n",
      " (1500160, u'created_by', u'JOSM', u'regular'),\n",
      " (1500413, u'created_by', u'JOSM', u'regular'),\n",
      " (1502918, u'source', u'Bing', u'regular'),\n",
      " (1502918, u'highway', u'traffic_signals', u'regular'),\n",
      " (3451766, u'created_by', u'JOSM', u'regular')]\n"
     ]
    }
   ],
   "source": [
    "# Check that the data imported correctly\n",
    "cur.execute('SELECT * FROM nodes_tags LIMIT 10')\n",
    "rows = cur.fetchall()\n",
    "print('Results:')\n",
    "pprint(rows)\n"
   ]
  },
  {
   "cell_type": "code",
   "execution_count": 15,
   "metadata": {
    "collapsed": true
   },
   "outputs": [],
   "source": [
    "# 3. Create the ways table and Insert the data.\n",
    "#    Drop drop the table if it already exists\n",
    "\n",
    "cur.execute('''DROP TABLE IF EXISTS ways''')\n",
    "conn.commit()\n",
    "\n",
    "query = '''CREATE TABLE ways\n",
    "(\n",
    "    id INTEGER PRIMARY KEY NOT NULL,\n",
    "    user TEXT,\n",
    "    uid INTEGER,\n",
    "    version TEXT,\n",
    "    changeset INTEGER,\n",
    "    timestamp TEXT\n",
    ");'''\n",
    "\n",
    "cur.execute(query)\n",
    "conn.commit()\n",
    "    \n",
    "with open('ways.csv','rb') as fin:\n",
    "    dr=csv.DictReader(fin)\n",
    "    to_db=[(i['id'],i['user'].decode(\"utf-8\"),i['uid'],i['version'],i['changeset'],i['timestamp']) for i in dr]\n",
    "\n",
    "cur.executemany(\"INSERT INTO ways(id, user, uid, version, changeset, timestamp) VALUES (?, ?, ?, ?, ?, ?);\", to_db)\n",
    "\n",
    "conn.commit()"
   ]
  },
  {
   "cell_type": "code",
   "execution_count": 12,
   "metadata": {},
   "outputs": [
    {
     "name": "stdout",
     "output_type": "stream",
     "text": [
      "Results:\n",
      "[(3696122,\n",
      "  u'hoream_telenav',\n",
      "  4437318,\n",
      "  u'8',\n",
      "  42296867,\n",
      "  u'2016-09-20T12:36:15Z'),\n",
      " (3742398, u'Jochen Topf', 4499, u'12', 29200524, u'2015-03-02T14:36:56Z'),\n",
      " (3944939, u'Nate_Wessel', 1108251, u'17', 40302979, u'2016-06-26T15:38:34Z'),\n",
      " (3979570, u'andrewpmk', 1679, u'6', 28897878, u'2015-02-16T23:03:20Z'),\n",
      " (3979701, u'andrewpmk', 1679, u'8', 28418810, u'2015-01-26T13:50:09Z'),\n",
      " (3979834, u'andrewpmk', 1679, u'6', 41704051, u'2016-08-25T23:45:07Z'),\n",
      " (3979889,\n",
      "  u'manuelab_telenav',\n",
      "  4667606,\n",
      "  u'17',\n",
      "  45710894,\n",
      "  u'2017-02-01T09:06:19Z'),\n",
      " (3979925,\n",
      "  u'manuelab_telenav',\n",
      "  4667606,\n",
      "  u'12',\n",
      "  49064705,\n",
      "  u'2017-05-29T08:07:43Z'),\n",
      " (3992903, u'Kevo', 40964, u'11', 43687065, u'2016-11-16T02:39:58Z'),\n",
      " (3996274, u'andrewpmk', 1679, u'4', 15583653, u'2013-04-02T16:20:29Z')]\n"
     ]
    }
   ],
   "source": [
    "# Check that the data imported correctly\n",
    "cur.execute('SELECT * FROM ways LIMIT 10')\n",
    "rows = cur.fetchall()\n",
    "print('Results:')\n",
    "pprint(rows)"
   ]
  },
  {
   "cell_type": "code",
   "execution_count": 19,
   "metadata": {
    "collapsed": true
   },
   "outputs": [],
   "source": [
    "# 4. Create the ways_tags table. \n",
    "#    Drop drop the table if it already exists\n",
    "\n",
    "cur.execute('''DROP TABLE IF EXISTS ways_tags''')\n",
    "conn.commit()\n",
    "\n",
    "query = '''CREATE TABLE ways_tags (\n",
    "    id INTEGER NOT NULL,\n",
    "    key TEXT NOT NULL,\n",
    "    value TEXT NOT NULL,\n",
    "    type TEXT,\n",
    "    FOREIGN KEY (id) REFERENCES ways(id)\n",
    ");'''\n",
    "\n",
    "cur.execute(query)\n",
    "conn.commit()\n",
    "\n",
    "with open('ways_tags.csv','rb') as fin:\n",
    "    dr=csv.DictReader(fin)\n",
    "    to_db=[(i['id'],i['key'],i['value'].decode(\"utf-8\"),i['type']) for i in dr]\n",
    "\n",
    "cur.executemany(\"INSERT INTO ways_tags(id, key, value,type) VALUES (?, ?, ?, ?);\", to_db)\n",
    "\n",
    "conn.commit()\n"
   ]
  },
  {
   "cell_type": "code",
   "execution_count": 13,
   "metadata": {},
   "outputs": [
    {
     "name": "stdout",
     "output_type": "stream",
     "text": [
      "Results:\n",
      "[(3696122, u'lanes', u'1', u'regular'),\n",
      " (3696122, u'oneway', u'yes', u'regular'),\n",
      " (3696122, u'highway', u'motorway_link', u'regular'),\n",
      " (3696122, u'surface', u'asphalt', u'regular'),\n",
      " (3696122, u'wide_load', u'no', u'regular'),\n",
      " (3696122, u'destination', u'Newmarket', u'regular'),\n",
      " (3696122, u'ref', u'404', u'destination'),\n",
      " (3696122, u'street', u'Highway 404;Don Valley Parkway', u'destination'),\n",
      " (3742398, u'source', u'PGS; Bing', u'regular'),\n",
      " (3944939, u'lit', u'yes', u'regular')]\n"
     ]
    }
   ],
   "source": [
    "# Check that the data imported correctly\n",
    "cur.execute('SELECT * FROM ways_tags LIMIT 10')\n",
    "rows = cur.fetchall()\n",
    "print('Results:')\n",
    "pprint(rows)"
   ]
  },
  {
   "cell_type": "code",
   "execution_count": 21,
   "metadata": {},
   "outputs": [
    {
     "data": {
      "text/plain": [
       "'    \\nwith open(\\'ways_nodes.csv\\',\\'rb\\') as fin:\\n    dr=csv.DictReader(fin)\\n    to_db=[(i[\\'id\\'],i[\\'node_id\\'],i[\\'position\\']) for i in dr]\\n\\ncur.executemany(\"INSERT INTO ways_tags(id, node_id, positin) VALUES (?, ?, ?);\", to_db)\\n\\nconn.commit()\\n'"
      ]
     },
     "execution_count": 21,
     "metadata": {},
     "output_type": "execute_result"
    }
   ],
   "source": [
    "# 5. Create the ways_nodes table. \n",
    "#    Drop drop the table if it already exists\n",
    "\n",
    "cur.execute('''DROP TABLE IF EXISTS ways_nodes''')\n",
    "conn.commit()\n",
    "\n",
    "query = '''CREATE TABLE ways_nodes\n",
    "(\n",
    "    id INTEGER NOT NULL,\n",
    "    node_id INTEGER NOT NULL,\n",
    "    position INTEGER NOT NULL,\n",
    "    FOREIGN KEY (id) REFERENCES ways(id),\n",
    "    FOREIGN KEY (node_id) REFERENCES nodes(id)\n",
    ");'''\n",
    "    \n",
    "cur.execute(query)\n",
    "conn.commit()\n",
    "\n",
    "with open('ways_nodes.csv','rb') as fin:\n",
    "    dr=csv.DictReader(fin)\n",
    "    to_db=[(i['id'],i['node_id'],i['position']) for i in dr]\n",
    "\n",
    "cur.executemany(\"INSERT INTO ways_nodes(id, node_id, position) VALUES (?, ?, ?);\", to_db)\n",
    "\n",
    "conn.commit()"
   ]
  },
  {
   "cell_type": "code",
   "execution_count": 14,
   "metadata": {},
   "outputs": [
    {
     "name": "stdout",
     "output_type": "stream",
     "text": [
      "Results:\n",
      "[(3696122, 1500367, 0),\n",
      " (3696122, 18319127, 1),\n",
      " (3742398, 18542084, 0),\n",
      " (3742398, 18542085, 1),\n",
      " (3742398, 1835352750, 2)]\n"
     ]
    }
   ],
   "source": [
    "# Check that the data imported correctly\n",
    "cur.execute('SELECT * FROM ways_nodes LIMIT 5')\n",
    "rows = cur.fetchall()\n",
    "print('Results:')\n",
    "pprint(rows)"
   ]
  },
  {
   "cell_type": "markdown",
   "metadata": {},
   "source": [
    "### 3. Exploring the Data"
   ]
  },
  {
   "cell_type": "markdown",
   "metadata": {},
   "source": [
    "#### 1. Number of Nodes."
   ]
  },
  {
   "cell_type": "code",
   "execution_count": 15,
   "metadata": {},
   "outputs": [
    {
     "name": "stdout",
     "output_type": "stream",
     "text": [
      "There are 341835 nodes.\n"
     ]
    }
   ],
   "source": [
    "cur.execute(\"SELECT COUNT(*) from nodes;\")\n",
    "print 'There are {} nodes.'.format(cur.fetchall()[0][0])"
   ]
  },
  {
   "cell_type": "markdown",
   "metadata": {},
   "source": [
    "#### 2. Numbers of Ways."
   ]
  },
  {
   "cell_type": "code",
   "execution_count": 16,
   "metadata": {},
   "outputs": [
    {
     "name": "stdout",
     "output_type": "stream",
     "text": [
      "There are 50752 ways in database.\n"
     ]
    }
   ],
   "source": [
    "cur.execute(\"SELECT COUNT(*) from ways;\")\n",
    "print 'There are {} ways in database.'.format(cur.fetchall()[0][0])"
   ]
  },
  {
   "cell_type": "markdown",
   "metadata": {},
   "source": [
    "#### 3. Number of unique Users."
   ]
  },
  {
   "cell_type": "code",
   "execution_count": 17,
   "metadata": {},
   "outputs": [
    {
     "name": "stdout",
     "output_type": "stream",
     "text": [
      "There are 1404 uniqe users.\n"
     ]
    }
   ],
   "source": [
    "cur.execute(\"SELECT COUNT(DISTINCT(U.uid)) FROM (SELECT uid FROM nodes UNION ALL SELECT uid FROM ways) U;\") \n",
    "print 'There are {} uniqe users.'.format(cur.fetchall()[0][0])\n"
   ]
  },
  {
   "cell_type": "markdown",
   "metadata": {},
   "source": [
    "#### 4. Top 6 contributing Users."
   ]
  },
  {
   "cell_type": "code",
   "execution_count": 18,
   "metadata": {},
   "outputs": [
    {
     "name": "stdout",
     "output_type": "stream",
     "text": [
      "Top six contributing users:\n",
      "[(u'andrewpmk', 226404),\n",
      " (u'Kevo', 32266),\n",
      " (u'MikeyCarter', 31644),\n",
      " (u'Bootprint', 13874),\n",
      " (u'Victor Bielawski', 9572),\n",
      " (u'Mojgan Jadidi', 6462)]\n"
     ]
    }
   ],
   "source": [
    "cur.execute(\"SELECT U.user, COUNT(*) as num FROM (SELECT user FROM nodes UNION ALL SELECT user FROM ways) U GROUP BY U.user ORDER BY num DESC LIMIT 6;\")\n",
    "rows = cur.fetchall()\n",
    "print('Top six contributing users:')\n",
    "pprint(rows)"
   ]
  },
  {
   "cell_type": "markdown",
   "metadata": {},
   "source": [
    "#### 5. Number of users appearing only Once and 100 times."
   ]
  },
  {
   "cell_type": "code",
   "execution_count": 19,
   "metadata": {},
   "outputs": [
    {
     "name": "stdout",
     "output_type": "stream",
     "text": [
      "Number of users appearing only Once:\n",
      "[(468,)]\n"
     ]
    }
   ],
   "source": [
    "cur.execute(\"SELECT COUNT(*) FROM (SELECT U.user, COUNT(*) as num FROM (SELECT user FROM nodes UNION ALL SELECT user FROM ways) U GROUP BY U.user HAVING num=1) u;\")\n",
    "rows = cur.fetchall()\n",
    "print('Number of users appearing only Once:')\n",
    "pprint(rows)"
   ]
  },
  {
   "cell_type": "code",
   "execution_count": 20,
   "metadata": {},
   "outputs": [
    {
     "name": "stdout",
     "output_type": "stream",
     "text": [
      "Number of users appearing 100 times:\n",
      "[(1,)]\n"
     ]
    }
   ],
   "source": [
    "cur.execute(\"SELECT COUNT(*) FROM (SELECT U.user, COUNT(*) as num FROM (SELECT user FROM nodes UNION ALL SELECT user FROM ways) U GROUP BY U.user HAVING num=100) u;\")\n",
    "rows = cur.fetchall()\n",
    "print('Number of users appearing 100 times:')\n",
    "pprint(rows)"
   ]
  },
  {
   "cell_type": "markdown",
   "metadata": {},
   "source": [
    "#### 6. Number of Top 10 Amenities"
   ]
  },
  {
   "cell_type": "code",
   "execution_count": 21,
   "metadata": {},
   "outputs": [
    {
     "name": "stdout",
     "output_type": "stream",
     "text": [
      "Top 10 Amenities:\n",
      "[(u'restaurant', 208),\n",
      " (u'fast_food', 201),\n",
      " (u'bench', 155),\n",
      " (u'post_box', 145),\n",
      " (u'cafe', 113),\n",
      " (u'parking', 79),\n",
      " (u'waste_basket', 76),\n",
      " (u'fuel', 67),\n",
      " (u'bank', 60),\n",
      " (u'pharmacy', 47)]\n"
     ]
    }
   ],
   "source": [
    "cur.execute(\"SELECT VALUE, COUNT(*) as count FROM nodes_tags WHERE key ='amenity' GROUP BY value ORDER BY count DESC LIMIT 10;\")\n",
    "rows = cur.fetchall()\n",
    "print('Top 10 Amenities:')\n",
    "pprint(rows)"
   ]
  },
  {
   "cell_type": "markdown",
   "metadata": {},
   "source": [
    "#### 7. Top 10 Commercial buildings name"
   ]
  },
  {
   "cell_type": "code",
   "execution_count": 23,
   "metadata": {},
   "outputs": [
    {
     "name": "stdout",
     "output_type": "stream",
     "text": [
      "Top 10 Commercials:\n",
      "[(u'Subway', 32),\n",
      " (u'Tim Hortons', 30),\n",
      " (u'Petro-Canada', 23),\n",
      " (u'Esso', 17),\n",
      " (u'Pizza Pizza', 16),\n",
      " (u'Shoppers Drug Mart', 15),\n",
      " (u'Starbucks Coffee', 15),\n",
      " (u'Dollarama', 12),\n",
      " (u'Scotiabank', 11),\n",
      " (u'CIBC', 10)]\n"
     ]
    }
   ],
   "source": [
    "cur.execute(\"SELECT VALUE, COUNT(*) as count FROM nodes_tags WHERE key = 'name' GROUP BY value ORDER BY count DESC LIMIT 10;\")\n",
    "rows = cur.fetchall()\n",
    "print('Top 10 Commercials:')\n",
    "pprint(rows)"
   ]
  },
  {
   "cell_type": "markdown",
   "metadata": {},
   "source": [
    "#### 8. Top 25 Restaurents"
   ]
  },
  {
   "cell_type": "code",
   "execution_count": 25,
   "metadata": {},
   "outputs": [
    {
     "name": "stdout",
     "output_type": "stream",
     "text": [
      "Top 25 Restaurents:\n",
      "[(u'chinese', 12),\n",
      " (u'japanese', 11),\n",
      " (u'indian', 9),\n",
      " (u'burger', 4),\n",
      " (u'italian', 4),\n",
      " (u'seafood', 4),\n",
      " (u'thai', 4),\n",
      " (u'american', 3),\n",
      " (u'breakfast', 3),\n",
      " (u'vietnamese', 3),\n",
      " (u'chicken', 2),\n",
      " (u'korean', 2),\n",
      " (u'steak_house', 2),\n",
      " (u'sushi', 2),\n",
      " (u'Sandwiches, juice, etc.', 1),\n",
      " (u'Sushi', 1),\n",
      " (u'Vietnamese', 1),\n",
      " (u'afghani', 1),\n",
      " (u'asian', 1),\n",
      " (u'bar&grill', 1),\n",
      " (u'buffet', 1),\n",
      " (u'caribbean', 1),\n",
      " (u'carribean,_roti', 1),\n",
      " (u'diner', 1),\n",
      " (u'filipino', 1)]\n"
     ]
    }
   ],
   "source": [
    "cur.execute(\"SELECT nodes_tags.value, COUNT(*) as count FROM nodes_tags JOIN (SELECT DISTINCT(id) FROM nodes_tags WHERE value='restaurant') rest ON nodes_tags.id=rest.id WHERE nodes_tags.key='cuisine' GROUP BY nodes_tags.value ORDER BY count DESC LIMIT 25;\")\n",
    "rows = cur.fetchall()\n",
    "print('Top 25 Restaurents:')\n",
    "pprint(rows)"
   ]
  },
  {
   "cell_type": "markdown",
   "metadata": {},
   "source": [
    "### 4. Ideas for additional Improvements "
   ]
  },
  {
   "cell_type": "markdown",
   "metadata": {},
   "source": [
    "The first step in data analysis is to improve data quality. Data scientists correct spelling mistakes, handle missing data and weed out nonsense information. This is the most critical step in the data value chain, junk data will generate wrong results and mislead. It is especially important that this step will scale, since having continuous data value chain requires that incoming data will get cleaned immediately and at very high rates.\n",
    "\n",
    "Here, in the project we downloaded the metro extract from MapZen. Users have created scripts to import massive amounts of data from other sources, sometimes this can introduce additional issues such as incorrect values or superfluous information. \n",
    "\n",
    "Street name abbreviation and postcode values could be crosschecked when inputing a new address. Most countries have public APIs to retrieve addresses from postcodes, so it could be done, with the help of contributors around the world. This improvement could prevent a lot of wrong data inputs. It would definitely cause a positive impact which would affect users througout the world. On the other hand, a change like this decreases the freedom of the user when inputing new addresses. Since data could only be submitted if it was in accordance with the crosschecked value from another data source. These positive and negative impacts should be weighted before implementing this kind of improvement to the process.\n",
    "\n",
    "The Open Street Map input tool could have a phone format validator, varying from country to country, to avoid such a mess on the phones format. It could also separate multiple phones with a standard separator. It was one of the most difficult steps of the phone values wrangling. The fact that each country has a different standard format makes it difficult to implement this, but with the help of the open software community around Open Street Map it could be done. It would decrease the freedom of the user inputing the data, since the phone format would have to be validated to the standards. And every time the standards change, the validators would have to be updated.\n",
    "\n",
    "Also we can make some rules or patterns to input data which users follow everytime to input their data. This will also restrict users input in their native language and use unnecessary inputs.\n",
    "\n",
    "We can also use third party tools such as Mapbox and Google Maps API to improve the dataset. Mapbox provides a suite of digital mapping tools that allow custom maps to be quickly and easily added to applications. The Mapbox platform is open source and features textures, illustrations, custom markers, vector tiles, static maps, geocoding and more. Any GIS system is only as good as the data that's in it. ArcGIS provides a complete set of tools that give you the flexibility to store, edit, and manage data in a way that fits with your existing processes."
   ]
  },
  {
   "cell_type": "markdown",
   "metadata": {},
   "source": [
    "### 5. Conclusion"
   ]
  },
  {
   "cell_type": "markdown",
   "metadata": {},
   "source": [
    "\n",
    "Data wrangling is the process of transforming and mapping data from one \"raw\" data form into another format with the intent of making it more appropriate and valuable for a variety of downstream purposes such as analytics. In our data auditing we used only 3 regular expressions to check for certain patterns in the tags. It is a huge data set and it may have some irregular patterns also. It will take time to find and complete the task in time.\n",
    "\n",
    "In the analysis of OpenStreet Map dataset, I noticed lots of human error or manual entry errors. In the process of auditing the dataset, some of the postal codes are missing the right format, some of them are missing digits and some tags are with no postal codes. Also in the address tags, streets abbreviation in place and need to be mapped to the expected name. I able to improve or update the abbreavited street name to the expected names. Still I need to do clean up or improve on streets numbers and etc. The file size is very large and takes more time to find the inconsistant ones and mapped to the ecpected one. Also I encountered that the phone numbers are not entered properly or not strictly followed in the program or code. I able to audit and made them to the right format. Some of them are not able to modify.\n",
    "\n",
    "After auditing is complete the next step is to prepare the data to be inserted into a SQL database. To do so we parsed the elements in the OSM XML file, transforming them from document format to Tabular format. That maks possible to write to .csv files. Because of the size of the dataset, create and insert the data into the csv files took lots of time. It was painful to wait for the process to complete. It was confused that the code is working or not. After successful execution these csv files are imported to a SQL database as tables. Finaly I able to run the SQL query in python notebook to analyse the OpenStreet Map.\n"
   ]
  },
  {
   "cell_type": "markdown",
   "metadata": {},
   "source": [
    "### 6. References"
   ]
  },
  {
   "cell_type": "markdown",
   "metadata": {},
   "source": [
    "https://discussions.udacity.com/c/nd002-data-wrangling\n",
    "\n",
    "http://www.tutorialspoint.com/python/\n",
    "\n",
    "https://www.w3schools.com/xml/xml_whatis.asp\n",
    "\n",
    "https://docs.python.org/2/library/csv.html\n",
    "\n",
    "https://www.tutorialspoint.com/sql/"
   ]
  }
 ],
 "metadata": {
  "kernelspec": {
   "display_name": "Python [conda env:DAND]",
   "language": "python",
   "name": "conda-env-DAND-py"
  },
  "language_info": {
   "codemirror_mode": {
    "name": "ipython",
    "version": 2
   },
   "file_extension": ".py",
   "mimetype": "text/x-python",
   "name": "python",
   "nbconvert_exporter": "python",
   "pygments_lexer": "ipython2",
   "version": "2.7.12"
  }
 },
 "nbformat": 4,
 "nbformat_minor": 2
}
